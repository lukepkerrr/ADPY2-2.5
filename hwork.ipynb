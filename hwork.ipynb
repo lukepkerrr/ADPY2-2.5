{
 "cells": [
  {
   "cell_type": "code",
   "execution_count": 1,
   "metadata": {},
   "outputs": [],
   "source": [
    "import pandas as pd"
   ]
  },
  {
   "cell_type": "code",
   "execution_count": 2,
   "metadata": {},
   "outputs": [],
   "source": [
    "path = 'data/'"
   ]
  },
  {
   "cell_type": "code",
   "execution_count": 3,
   "metadata": {},
   "outputs": [],
   "source": [
    "def build_years(list_of_years):\n",
    "    years_for_build = []\n",
    "    for year in list_of_years:\n",
    "        full_path = '{}yob{}.txt'.format(path, str(year))\n",
    "        year_dataframe = pd.read_csv(full_path, names=['Names', 'Gender', 'Count'])\n",
    "        year_dataframe['Year'] = str(year)\n",
    "        years_for_build.append(year_dataframe)\n",
    "    return pd.concat(years_for_build)"
   ]
  },
  {
   "cell_type": "code",
   "execution_count": 4,
   "metadata": {},
   "outputs": [],
   "source": [
    "def count_top3(list_of_years):\n",
    "    years_df = build_years(list_of_years)\n",
    "    years_df = years_df.groupby(['Names']).sum().reset_index()\n",
    "    return years_df.sort_values('Count', ascending=False).head(3)['Names'].tolist()"
   ]
  },
  {
   "cell_type": "code",
   "execution_count": 5,
   "metadata": {},
   "outputs": [],
   "source": [
    "def count_dynamics(list_of_years):\n",
    "    years_df = build_years(list_of_years)\n",
    "    years_df = years_df.groupby(['Gender', 'Year']).sum().reset_index()\n",
    "    female = years_df[years_df['Gender'] == 'F']['Count'].tolist()\n",
    "    male = years_df[years_df['Gender'] == 'M']['Count'].tolist()\n",
    "    return {\n",
    "        'F': female,\n",
    "        'M': male\n",
    "    }"
   ]
  },
  {
   "cell_type": "code",
   "execution_count": 6,
   "metadata": {},
   "outputs": [
    {
     "data": {
      "text/plain": [
       "['John', 'William', 'Mary']"
      ]
     },
     "execution_count": 6,
     "metadata": {},
     "output_type": "execute_result"
    }
   ],
   "source": [
    "test_1 = count_top3([1880])\n",
    "test_1"
   ]
  },
  {
   "cell_type": "code",
   "execution_count": 7,
   "metadata": {},
   "outputs": [
    {
     "data": {
      "text/plain": [
       "['James', 'John', 'Robert']"
      ]
     },
     "execution_count": 7,
     "metadata": {},
     "output_type": "execute_result"
    }
   ],
   "source": [
    "test_2 = count_top3([1900, 1950, 2000])\n",
    "test_2"
   ]
  },
  {
   "cell_type": "code",
   "execution_count": 8,
   "metadata": {},
   "outputs": [
    {
     "data": {
      "text/plain": [
       "{'F': [299800, 1713151, 1815110], 'M': [150483, 1790549, 1962969]}"
      ]
     },
     "execution_count": 8,
     "metadata": {},
     "output_type": "execute_result"
    }
   ],
   "source": [
    "test_3 = count_dynamics([1900, 1950, 2000])\n",
    "test_3"
   ]
  }
 ],
 "metadata": {
  "kernelspec": {
   "display_name": "Python 3",
   "language": "python",
   "name": "python3"
  },
  "language_info": {
   "codemirror_mode": {
    "name": "ipython",
    "version": 3
   },
   "file_extension": ".py",
   "mimetype": "text/x-python",
   "name": "python",
   "nbconvert_exporter": "python",
   "pygments_lexer": "ipython3",
   "version": "3.7.3"
  }
 },
 "nbformat": 4,
 "nbformat_minor": 2
}
